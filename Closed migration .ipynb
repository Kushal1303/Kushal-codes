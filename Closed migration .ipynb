{
 "cells": [
  {
   "cell_type": "code",
   "execution_count": 33,
   "metadata": {},
   "outputs": [
    {
     "name": "stdout",
     "output_type": "stream",
     "text": [
      "Enter Depth(ft)10000\n",
      "Enter mud weight(ppg)12.5\n",
      "Enter  kick(ppg)13\n",
      "Enter casing ID(inch)8.5\n",
      "Enter drill string OD(inch)5\n",
      "Enter kick volume(bbls)10\n"
     ]
    },
    {
     "data": {
      "text/html": [
       "<div>\n",
       "<style scoped>\n",
       "    .dataframe tbody tr th:only-of-type {\n",
       "        vertical-align: middle;\n",
       "    }\n",
       "\n",
       "    .dataframe tbody tr th {\n",
       "        vertical-align: top;\n",
       "    }\n",
       "\n",
       "    .dataframe thead th {\n",
       "        text-align: right;\n",
       "    }\n",
       "</style>\n",
       "<table border=\"1\" class=\"dataframe\">\n",
       "  <thead>\n",
       "    <tr style=\"text-align: right;\">\n",
       "      <th></th>\n",
       "      <th>Depth</th>\n",
       "      <th>HSP</th>\n",
       "      <th>FP</th>\n",
       "      <th>SIDPP</th>\n",
       "      <th>SICP</th>\n",
       "      <th>PAB</th>\n",
       "    </tr>\n",
       "  </thead>\n",
       "  <tbody>\n",
       "    <tr>\n",
       "      <th>1</th>\n",
       "      <td>101.010101</td>\n",
       "      <td>65.656566</td>\n",
       "      <td>68.282828</td>\n",
       "      <td>2.626263</td>\n",
       "      <td>118.093353</td>\n",
       "      <td>42.139336</td>\n",
       "    </tr>\n",
       "    <tr>\n",
       "      <th>2</th>\n",
       "      <td>202.020202</td>\n",
       "      <td>131.313131</td>\n",
       "      <td>136.565657</td>\n",
       "      <td>5.252525</td>\n",
       "      <td>120.719615</td>\n",
       "      <td>110.422165</td>\n",
       "    </tr>\n",
       "    <tr>\n",
       "      <th>3</th>\n",
       "      <td>303.030303</td>\n",
       "      <td>196.969697</td>\n",
       "      <td>204.848485</td>\n",
       "      <td>7.878788</td>\n",
       "      <td>123.345878</td>\n",
       "      <td>178.704993</td>\n",
       "    </tr>\n",
       "    <tr>\n",
       "      <th>4</th>\n",
       "      <td>404.040404</td>\n",
       "      <td>262.626263</td>\n",
       "      <td>273.131313</td>\n",
       "      <td>10.505051</td>\n",
       "      <td>125.972140</td>\n",
       "      <td>246.987821</td>\n",
       "    </tr>\n",
       "    <tr>\n",
       "      <th>5</th>\n",
       "      <td>505.050505</td>\n",
       "      <td>328.282828</td>\n",
       "      <td>341.414141</td>\n",
       "      <td>13.131313</td>\n",
       "      <td>128.598403</td>\n",
       "      <td>315.270649</td>\n",
       "    </tr>\n",
       "    <tr>\n",
       "      <th>...</th>\n",
       "      <td>...</td>\n",
       "      <td>...</td>\n",
       "      <td>...</td>\n",
       "      <td>...</td>\n",
       "      <td>...</td>\n",
       "      <td>...</td>\n",
       "    </tr>\n",
       "    <tr>\n",
       "      <th>95</th>\n",
       "      <td>9595.959596</td>\n",
       "      <td>6237.373737</td>\n",
       "      <td>6486.868687</td>\n",
       "      <td>249.494949</td>\n",
       "      <td>364.962039</td>\n",
       "      <td>6460.725195</td>\n",
       "    </tr>\n",
       "    <tr>\n",
       "      <th>96</th>\n",
       "      <td>9696.969697</td>\n",
       "      <td>6303.030303</td>\n",
       "      <td>6555.151515</td>\n",
       "      <td>252.121212</td>\n",
       "      <td>367.588302</td>\n",
       "      <td>6529.008023</td>\n",
       "    </tr>\n",
       "    <tr>\n",
       "      <th>97</th>\n",
       "      <td>9797.979798</td>\n",
       "      <td>6368.686869</td>\n",
       "      <td>6623.434343</td>\n",
       "      <td>254.747475</td>\n",
       "      <td>370.214565</td>\n",
       "      <td>6597.290851</td>\n",
       "    </tr>\n",
       "    <tr>\n",
       "      <th>98</th>\n",
       "      <td>9898.989899</td>\n",
       "      <td>6434.343434</td>\n",
       "      <td>6691.717172</td>\n",
       "      <td>257.373737</td>\n",
       "      <td>372.840827</td>\n",
       "      <td>6665.573680</td>\n",
       "    </tr>\n",
       "    <tr>\n",
       "      <th>99</th>\n",
       "      <td>10000.000000</td>\n",
       "      <td>6500.000000</td>\n",
       "      <td>6760.000000</td>\n",
       "      <td>260.000000</td>\n",
       "      <td>375.467090</td>\n",
       "      <td>6733.856508</td>\n",
       "    </tr>\n",
       "  </tbody>\n",
       "</table>\n",
       "<p>99 rows × 6 columns</p>\n",
       "</div>"
      ],
      "text/plain": [
       "           Depth          HSP           FP       SIDPP        SICP  \\\n",
       "1     101.010101    65.656566    68.282828    2.626263  118.093353   \n",
       "2     202.020202   131.313131   136.565657    5.252525  120.719615   \n",
       "3     303.030303   196.969697   204.848485    7.878788  123.345878   \n",
       "4     404.040404   262.626263   273.131313   10.505051  125.972140   \n",
       "5     505.050505   328.282828   341.414141   13.131313  128.598403   \n",
       "..           ...          ...          ...         ...         ...   \n",
       "95   9595.959596  6237.373737  6486.868687  249.494949  364.962039   \n",
       "96   9696.969697  6303.030303  6555.151515  252.121212  367.588302   \n",
       "97   9797.979798  6368.686869  6623.434343  254.747475  370.214565   \n",
       "98   9898.989899  6434.343434  6691.717172  257.373737  372.840827   \n",
       "99  10000.000000  6500.000000  6760.000000  260.000000  375.467090   \n",
       "\n",
       "            PAB  \n",
       "1     42.139336  \n",
       "2    110.422165  \n",
       "3    178.704993  \n",
       "4    246.987821  \n",
       "5    315.270649  \n",
       "..          ...  \n",
       "95  6460.725195  \n",
       "96  6529.008023  \n",
       "97  6597.290851  \n",
       "98  6665.573680  \n",
       "99  6733.856508  \n",
       "\n",
       "[99 rows x 6 columns]"
      ]
     },
     "execution_count": 33,
     "metadata": {},
     "output_type": "execute_result"
    }
   ],
   "source": [
    "import numpy as np\n",
    "import matplotlib.pyplot as plt\n",
    "import pandas as pd\n",
    "import seaborn as sns\n",
    "\n",
    "#Taking Values from user\n",
    "D = int(input(\"Enter Depth(ft)\"))\n",
    "d = np.linspace(0 , D , 100)\n",
    "MW = float(input(\"Enter mud weight(ppg)\"))              # mud weight\n",
    "K = float(input(\"Enter  kick(ppg)\"))                #Kick Density\n",
    "ID = float(input(\"Enter casing ID(inch)\"))          #Casing ID\n",
    "Dod = float(input(\"Enter drill string OD(inch)\"))     # Drill String OD\n",
    "V = float(input(\"Enter kick volume(bbls)\"))        #Kick Volume in bbl\n",
    "\n",
    "#Creating Table\n",
    "df = pd.DataFrame({\"Depth\": d})\n",
    "df[\"HSP\"] = 0.052*(MW)*(df[\"Depth\"])               #Hydrosatic Pressure\n",
    "df[\"FP\"] = 0.052*(K)*(df[\"Depth\"])               #Formation pressure\n",
    "df[\"SIDPP\"] = df[\"FP\"] -df[\"HSP\"]                   #Shut in Drill pipe pressure\n",
    "AC = ((ID**2)-(Dod**2))/1029.4            #Annalus Capacity\n",
    "GH = V/AC                              #Gas Influsx Height\n",
    "HP = 0.12 * GH                      #Hydrostatic Pressure of gas\n",
    "df[\"SICP\"] = df[\"FP\"] - (((df[\"Depth\"]- GH)* 0.052 * MW) + HP)   # Shut in casing pressure\n",
    "df[\"PAB\"] = df[\"FP\"] - (GH * 0.12)           # Pressure at bubble\n",
    "df.drop(0 ,axis=0)"
   ]
  },
  {
   "cell_type": "code",
   "execution_count": 54,
   "metadata": {},
   "outputs": [
    {
     "data": {
      "text/plain": [
       "<matplotlib.collections.PathCollection at 0x224a69a16c8>"
      ]
     },
     "execution_count": 54,
     "metadata": {},
     "output_type": "execute_result"
    },
    {
     "data": {
      "image/png": "[encoded data removed]",
      "text/plain": [
       "<Figure size 720x360 with 1 Axes>"
      ]
     },
     "metadata": {
      "needs_background": "light"
     },
     "output_type": "display_data"
    }
   ],
   "source": [
    "#Plotting curve\n",
    "\n",
    "fig= plt.figure(figsize=(10,5))\n",
    "axes= fig.add_axes([0.1,0.1,0.8,0.8])\n",
    "x=df[\"Depth\"]\n",
    "y=df[\"SICP\"]\n",
    "plt.scatter(x,y)"
   ]
  },
  {
   "cell_type": "code",
   "execution_count": 3,
   "metadata": {},
   "outputs": [
    {
     "data": {
      "text/html": [
       "<div>\n",
       "<style scoped>\n",
       "    .dataframe tbody tr th:only-of-type {\n",
       "        vertical-align: middle;\n",
       "    }\n",
       "\n",
       "    .dataframe tbody tr th {\n",
       "        vertical-align: top;\n",
       "    }\n",
       "\n",
       "    .dataframe thead th {\n",
       "        text-align: right;\n",
       "    }\n",
       "</style>\n",
       "<table border=\"1\" class=\"dataframe\">\n",
       "  <thead>\n",
       "    <tr style=\"text-align: right;\">\n",
       "      <th></th>\n",
       "      <th>Depth</th>\n",
       "      <th>HSP</th>\n",
       "      <th>FP</th>\n",
       "      <th>SIDPP</th>\n",
       "      <th>SICP</th>\n",
       "      <th>PAB</th>\n",
       "    </tr>\n",
       "  </thead>\n",
       "  <tbody>\n",
       "    <tr>\n",
       "      <th>0</th>\n",
       "      <td>0</td>\n",
       "      <td>0.00</td>\n",
       "      <td>0.000</td>\n",
       "      <td>0.000</td>\n",
       "      <td>115.46709</td>\n",
       "      <td>-26.143492</td>\n",
       "    </tr>\n",
       "    <tr>\n",
       "      <th>1</th>\n",
       "      <td>1</td>\n",
       "      <td>0.65</td>\n",
       "      <td>0.676</td>\n",
       "      <td>0.026</td>\n",
       "      <td>115.49309</td>\n",
       "      <td>-25.467492</td>\n",
       "    </tr>\n",
       "    <tr>\n",
       "      <th>2</th>\n",
       "      <td>2</td>\n",
       "      <td>1.30</td>\n",
       "      <td>1.352</td>\n",
       "      <td>0.052</td>\n",
       "      <td>115.51909</td>\n",
       "      <td>-24.791492</td>\n",
       "    </tr>\n",
       "    <tr>\n",
       "      <th>3</th>\n",
       "      <td>3</td>\n",
       "      <td>1.95</td>\n",
       "      <td>2.028</td>\n",
       "      <td>0.078</td>\n",
       "      <td>115.54509</td>\n",
       "      <td>-24.115492</td>\n",
       "    </tr>\n",
       "    <tr>\n",
       "      <th>4</th>\n",
       "      <td>4</td>\n",
       "      <td>2.60</td>\n",
       "      <td>2.704</td>\n",
       "      <td>0.104</td>\n",
       "      <td>115.57109</td>\n",
       "      <td>-23.439492</td>\n",
       "    </tr>\n",
       "  </tbody>\n",
       "</table>\n",
       "</div>"
      ],
      "text/plain": [
       "   Depth   HSP     FP  SIDPP       SICP        PAB\n",
       "0      0  0.00  0.000  0.000  115.46709 -26.143492\n",
       "1      1  0.65  0.676  0.026  115.49309 -25.467492\n",
       "2      2  1.30  1.352  0.052  115.51909 -24.791492\n",
       "3      3  1.95  2.028  0.078  115.54509 -24.115492\n",
       "4      4  2.60  2.704  0.104  115.57109 -23.439492"
      ]
     },
     "execution_count": 3,
     "metadata": {},
     "output_type": "execute_result"
    }
   ],
   "source": [
    "df.head()"
   ]
  },
  {
   "cell_type": "code",
   "execution_count": 43,
   "metadata": {},
   "outputs": [
    {
     "data": {
      "text/plain": [
       "<seaborn.axisgrid.JointGrid at 0x224a531fd48>"
      ]
     },
     "execution_count": 43,
     "metadata": {},
     "output_type": "execute_result"
    },
    {
     "data": {
      "image/png": "[encoded data removed]",
      "text/plain": [
       "<Figure size 432x432 with 3 Axes>"
      ]
     },
     "metadata": {
      "needs_background": "light"
     },
     "output_type": "display_data"
    }
   ],
   "source": [
    "sns.jointplot(x='Depth',y='SICP',data=df,kind='hex')"
   ]
  },
  {
   "cell_type": "code",
   "execution_count": 52,
   "metadata": {},
   "outputs": [
    {
     "data": {
      "text/plain": [
       "<matplotlib.axes._subplots.AxesSubplot at 0x224a69f8788>"
      ]
     },
     "execution_count": 52,
     "metadata": {},
     "output_type": "execute_result"
    },
    {
     "data": {
      "image/png": "[encoded data removed]",
      "text/plain": [
       "<Figure size 432x288 with 2 Axes>"
      ]
     },
     "metadata": {
      "needs_background": "light"
     },
     "output_type": "display_data"
    }
   ],
   "source": [
    "q = df[[\"Depth\",\"SICP\"]]\n",
    "sns.heatmap(q)"
   ]
  },
  {
   "cell_type": "code",
   "execution_count": null,
   "metadata": {},
   "outputs": [],
   "source": []
  },
  {
   "cell_type": "code",
   "execution_count": null,
   "metadata": {},
   "outputs": [],
   "source": []
  },
  {
   "cell_type": "code",
   "execution_count": null,
   "metadata": {},
   "outputs": [],
   "source": []
  },
  {
   "cell_type": "code",
   "execution_count": null,
   "metadata": {},
   "outputs": [],
   "source": []
  }
 ],
 "metadata": {
  "kernelspec": {
   "display_name": "Python 3",
   "language": "python",
   "name": "python3"
  },
  "language_info": {
   "codemirror_mode": {
    "name": "ipython",
    "version": 3
   },
   "file_extension": ".py",
   "mimetype": "text/x-python",
   "name": "python",
   "nbconvert_exporter": "python",
   "pygments_lexer": "ipython3",
   "version": "3.7.6"
  }
 },
 "nbformat": 4,
 "nbformat_minor": 4
}
